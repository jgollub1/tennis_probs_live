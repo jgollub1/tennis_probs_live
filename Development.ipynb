{
 "cells": [
  {
   "cell_type": "code",
   "execution_count": null,
   "metadata": {},
   "outputs": [],
   "source": []
  },
  {
   "cell_type": "code",
   "execution_count": null,
   "metadata": {},
   "outputs": [],
   "source": []
  },
  {
   "cell_type": "code",
   "execution_count": null,
   "metadata": {},
   "outputs": [],
   "source": [
    "df = generate_52_stats(match_df,start_ind)\n",
    "df = generate_52_adj_stats(df,start_ind)\n",
    "df = generate_tny_stats(df,start_ind)\n",
    "\n",
    "cols = ['_name','_elo_538','_sf_elo_538', #'_elo','_sf_elo'\n",
    "        '_sf_52_swon','_sf_52_svpt','_sf_52_rwon','_sf_52_rpt',\n",
    "        '_swon', '_svpt', '_rwon', '_rpt',\n",
    "        '_52_swon', '_52_svpt','_52_rwon','_52_rpt','_52_s_adj','_52_r_adj']\n",
    "\n",
    "df['winner'] = np.random.choice([0,1], df.shape[0])"
   ]
  },
  {
   "cell_type": "code",
   "execution_count": null,
   "metadata": {},
   "outputs": [],
   "source": [
    "df = change_labels(df, cols)"
   ]
  },
  {
   "cell_type": "code",
   "execution_count": 9,
   "metadata": {
    "scrolled": true
   },
   "outputs": [
    {
     "data": {
      "text/plain": [
       "['_name',\n",
       " '_elo_538',\n",
       " '_sf_elo_538',\n",
       " '_sf_52_swon',\n",
       " '_sf_52_svpt',\n",
       " '_sf_52_rwon',\n",
       " '_sf_52_rpt_swon',\n",
       " '_svpt',\n",
       " '_rwon',\n",
       " '_rpt',\n",
       " '_52_swon',\n",
       " '_52_svpt',\n",
       " '_52_rwon',\n",
       " '_52_rpt',\n",
       " '_52_s_adj',\n",
       " '_52_r_adj']"
      ]
     },
     "execution_count": 9,
     "metadata": {},
     "output_type": "execute_result"
    }
   ],
   "source": [
    "cols"
   ]
  },
  {
   "cell_type": "code",
   "execution_count": null,
   "metadata": {},
   "outputs": [],
   "source": []
  }
 ],
 "metadata": {
  "kernelspec": {
   "display_name": "Python 2",
   "language": "python",
   "name": "python2"
  }
 },
 "nbformat": 4,
 "nbformat_minor": 2
}
