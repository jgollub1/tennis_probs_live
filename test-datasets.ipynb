{
 "cells": [
  {
   "cell_type": "markdown",
   "metadata": {},
   "source": [
    "## Generating test dataset and tests 2/16/19"
   ]
  },
  {
   "cell_type": "code",
   "execution_count": 1,
   "metadata": {},
   "outputs": [],
   "source": [
    "import os\n",
    "import sys\n",
    "from datetime import timedelta, datetime as dt\n",
    "from helper_functions import *\n",
    "from data_functions import *\n",
    "\n",
    "pd.options.mode.chained_assignment = None\n",
    "sys.path.insert(0, '{}/sackmann'.format(os.getcwd()))\n",
    "DATE = (dt.now() + timedelta(days=1)).strftime(('%m_%d_%Y'))\n",
    "TOUR = 'atp'\n",
    "START_YEAR = 2010\n",
    "RET_STRINGS = ('ABN', 'DEF', 'In Progress', 'RET', 'W/O', ' RET', ' W/O', 'nan', 'walkover')\n",
    "ABD_STRINGS = ('abandoned', 'ABN', 'ABD', 'DEF', 'def', 'unfinished', 'Walkover')\n",
    "COUNTS_538 = 1"
   ]
  },
  {
   "cell_type": "code",
   "execution_count": 2,
   "metadata": {},
   "outputs": [],
   "source": [
    "df = concat_data(1968, 2018, TOUR)\n",
    "df = format_match_df(df, TOUR, RET_STRINGS, ABD_STRINGS)"
   ]
  },
  {
   "cell_type": "code",
   "execution_count": 3,
   "metadata": {},
   "outputs": [],
   "source": [
    "test_df = df[(df.match_year >= 2012) & (df.match_year <= 2015)].dropna().reset_index()"
   ]
  },
  {
   "cell_type": "code",
   "execution_count": 4,
   "metadata": {},
   "outputs": [],
   "source": [
    "current_elo_ratings, df = generate_elo(test_df, 1)\n",
    "df = generate_52_stats(df, 0)\n",
    "df = generate_52_adj_stats(df, 0)\n",
    "df = generate_tny_stats(df, 0)\n",
    "df = generate_52_commop_stats(df, 0)"
   ]
  },
  {
   "cell_type": "code",
   "execution_count": 5,
   "metadata": {},
   "outputs": [],
   "source": [
    "df.to_csv('mathh_data_constructed/test_df_stats.csv')"
   ]
  },
  {
   "cell_type": "code",
   "execution_count": 12,
   "metadata": {},
   "outputs": [],
   "source": [
    "# tests\n",
    "\n",
    "# test elo\n",
    "# test 52 stats\n",
    "# test test adj stats\n",
    "# test EM stats\n",
    "# test comm op stats"
   ]
  },
  {
   "cell_type": "code",
   "execution_count": null,
   "metadata": {},
   "outputs": [],
   "source": []
  },
  {
   "cell_type": "code",
   "execution_count": null,
   "metadata": {},
   "outputs": [],
   "source": []
  },
  {
   "cell_type": "code",
   "execution_count": null,
   "metadata": {},
   "outputs": [],
   "source": []
  },
  {
   "cell_type": "markdown",
   "metadata": {},
   "source": [
    "## Verifying Datasets 2/16/19"
   ]
  },
  {
   "cell_type": "code",
   "execution_count": 2,
   "metadata": {},
   "outputs": [],
   "source": [
    "import os\n",
    "import pandas as pd\n",
    "import numpy as np\n",
    "from data_functions import *\n",
    "from sklearn.metrics import log_loss, accuracy_score\n",
    "\n",
    "df_1 = pd.read_csv('match_data_constructed/match_df_6_28_2018.csv')\n",
    "df_2 = pd.read_csv('match_data_constructed/match_df_02_16_2019.csv')\n",
    "# os.listdir('match_data_constructed/')"
   ]
  },
  {
   "cell_type": "code",
   "execution_count": 32,
   "metadata": {},
   "outputs": [],
   "source": [
    "# 2/16 recap: new datasets look good for the most part\n",
    "\n",
    "# i = 23000\n",
    "# for col in cols:\n",
    "#     print col, np.sum(np.isclose(df_1[col], df_2[col]))"
   ]
  },
  {
   "cell_type": "code",
   "execution_count": 3,
   "metadata": {},
   "outputs": [
    {
     "data": {
      "text/plain": [
       "((23270, 74), (23270, 93))"
      ]
     },
     "execution_count": 3,
     "metadata": {},
     "output_type": "execute_result"
    }
   ],
   "source": [
    "df_1.shape, df_2.shape"
   ]
  },
  {
   "cell_type": "code",
   "execution_count": null,
   "metadata": {},
   "outputs": [],
   "source": []
  },
  {
   "cell_type": "code",
   "execution_count": 35,
   "metadata": {},
   "outputs": [],
   "source": []
  },
  {
   "cell_type": "code",
   "execution_count": 37,
   "metadata": {
    "collapsed": true
   },
   "outputs": [
    {
     "data": {
      "text/html": [
       "<div>\n",
       "<style scoped>\n",
       "    .dataframe tbody tr th:only-of-type {\n",
       "        vertical-align: middle;\n",
       "    }\n",
       "\n",
       "    .dataframe tbody tr th {\n",
       "        vertical-align: top;\n",
       "    }\n",
       "\n",
       "    .dataframe thead th {\n",
       "        text-align: right;\n",
       "    }\n",
       "</style>\n",
       "<table border=\"1\" class=\"dataframe\">\n",
       "  <thead>\n",
       "    <tr style=\"text-align: right;\">\n",
       "      <th></th>\n",
       "      <th>tny_id</th>\n",
       "      <th>tny_name</th>\n",
       "      <th>surface</th>\n",
       "      <th>draw_size</th>\n",
       "      <th>tny_date</th>\n",
       "      <th>match_num</th>\n",
       "      <th>score</th>\n",
       "      <th>best_of</th>\n",
       "      <th>is_gs</th>\n",
       "      <th>match_year</th>\n",
       "      <th>match_month</th>\n",
       "      <th>winner</th>\n",
       "      <th>p0_swon</th>\n",
       "      <th>p1_swon</th>\n",
       "      <th>p0_svpt</th>\n",
       "      <th>p1_svpt</th>\n",
       "      <th>p0_rwon</th>\n",
       "      <th>p1_rwon</th>\n",
       "      <th>p0_rpt</th>\n",
       "      <th>p1_rpt</th>\n",
       "    </tr>\n",
       "  </thead>\n",
       "  <tbody>\n",
       "    <tr>\n",
       "      <th>0</th>\n",
       "      <td>2012-339</td>\n",
       "      <td>Brisbane</td>\n",
       "      <td>Hard</td>\n",
       "      <td>32</td>\n",
       "      <td>2012-01-01</td>\n",
       "      <td>1</td>\n",
       "      <td>5-7 6-3 6-2</td>\n",
       "      <td>3</td>\n",
       "      <td>False</td>\n",
       "      <td>2012</td>\n",
       "      <td>1</td>\n",
       "      <td>1</td>\n",
       "      <td>44.0</td>\n",
       "      <td>58.0</td>\n",
       "      <td>77.0</td>\n",
       "      <td>92.0</td>\n",
       "      <td>34.0</td>\n",
       "      <td>33.0</td>\n",
       "      <td>92.0</td>\n",
       "      <td>77.0</td>\n",
       "    </tr>\n",
       "    <tr>\n",
       "      <th>1</th>\n",
       "      <td>2012-339</td>\n",
       "      <td>Brisbane</td>\n",
       "      <td>Hard</td>\n",
       "      <td>32</td>\n",
       "      <td>2012-01-01</td>\n",
       "      <td>2</td>\n",
       "      <td>6-7 7-6 6-3</td>\n",
       "      <td>3</td>\n",
       "      <td>False</td>\n",
       "      <td>2012</td>\n",
       "      <td>1</td>\n",
       "      <td>0</td>\n",
       "      <td>78.0</td>\n",
       "      <td>74.0</td>\n",
       "      <td>104.0</td>\n",
       "      <td>103.0</td>\n",
       "      <td>29.0</td>\n",
       "      <td>26.0</td>\n",
       "      <td>103.0</td>\n",
       "      <td>104.0</td>\n",
       "    </tr>\n",
       "    <tr>\n",
       "      <th>2</th>\n",
       "      <td>2012-339</td>\n",
       "      <td>Brisbane</td>\n",
       "      <td>Hard</td>\n",
       "      <td>32</td>\n",
       "      <td>2012-01-01</td>\n",
       "      <td>3</td>\n",
       "      <td>7-6 6-4</td>\n",
       "      <td>3</td>\n",
       "      <td>False</td>\n",
       "      <td>2012</td>\n",
       "      <td>1</td>\n",
       "      <td>1</td>\n",
       "      <td>53.0</td>\n",
       "      <td>52.0</td>\n",
       "      <td>79.0</td>\n",
       "      <td>71.0</td>\n",
       "      <td>19.0</td>\n",
       "      <td>26.0</td>\n",
       "      <td>71.0</td>\n",
       "      <td>79.0</td>\n",
       "    </tr>\n",
       "    <tr>\n",
       "      <th>3</th>\n",
       "      <td>2012-339</td>\n",
       "      <td>Brisbane</td>\n",
       "      <td>Hard</td>\n",
       "      <td>32</td>\n",
       "      <td>2012-01-01</td>\n",
       "      <td>4</td>\n",
       "      <td>3-6 6-1 6-4</td>\n",
       "      <td>3</td>\n",
       "      <td>False</td>\n",
       "      <td>2012</td>\n",
       "      <td>1</td>\n",
       "      <td>0</td>\n",
       "      <td>47.0</td>\n",
       "      <td>50.0</td>\n",
       "      <td>75.0</td>\n",
       "      <td>90.0</td>\n",
       "      <td>40.0</td>\n",
       "      <td>28.0</td>\n",
       "      <td>90.0</td>\n",
       "      <td>75.0</td>\n",
       "    </tr>\n",
       "    <tr>\n",
       "      <th>4</th>\n",
       "      <td>2012-339</td>\n",
       "      <td>Brisbane</td>\n",
       "      <td>Hard</td>\n",
       "      <td>32</td>\n",
       "      <td>2012-01-01</td>\n",
       "      <td>6</td>\n",
       "      <td>6-3 7-5</td>\n",
       "      <td>3</td>\n",
       "      <td>False</td>\n",
       "      <td>2012</td>\n",
       "      <td>1</td>\n",
       "      <td>1</td>\n",
       "      <td>43.0</td>\n",
       "      <td>46.0</td>\n",
       "      <td>77.0</td>\n",
       "      <td>66.0</td>\n",
       "      <td>20.0</td>\n",
       "      <td>34.0</td>\n",
       "      <td>66.0</td>\n",
       "      <td>77.0</td>\n",
       "    </tr>\n",
       "  </tbody>\n",
       "</table>\n",
       "</div>"
      ],
      "text/plain": [
       "     tny_id  tny_name surface  draw_size    tny_date  match_num        score  \\\n",
       "0  2012-339  Brisbane    Hard         32  2012-01-01          1  5-7 6-3 6-2   \n",
       "1  2012-339  Brisbane    Hard         32  2012-01-01          2  6-7 7-6 6-3   \n",
       "2  2012-339  Brisbane    Hard         32  2012-01-01          3      7-6 6-4   \n",
       "3  2012-339  Brisbane    Hard         32  2012-01-01          4  3-6 6-1 6-4   \n",
       "4  2012-339  Brisbane    Hard         32  2012-01-01          6      6-3 7-5   \n",
       "\n",
       "   best_of  is_gs  match_year  match_month  winner  p0_swon  p1_swon  p0_svpt  \\\n",
       "0        3  False        2012            1       1     44.0     58.0     77.0   \n",
       "1        3  False        2012            1       0     78.0     74.0    104.0   \n",
       "2        3  False        2012            1       1     53.0     52.0     79.0   \n",
       "3        3  False        2012            1       0     47.0     50.0     75.0   \n",
       "4        3  False        2012            1       1     43.0     46.0     77.0   \n",
       "\n",
       "   p1_svpt  p0_rwon  p1_rwon  p0_rpt  p1_rpt  \n",
       "0     92.0     34.0     33.0    92.0    77.0  \n",
       "1    103.0     29.0     26.0   103.0   104.0  \n",
       "2     71.0     19.0     26.0    71.0    79.0  \n",
       "3     90.0     40.0     28.0    90.0    75.0  \n",
       "4     66.0     20.0     34.0    66.0    77.0  "
      ]
     },
     "execution_count": 37,
     "metadata": {},
     "output_type": "execute_result"
    }
   ],
   "source": [
    "test_df.head()"
   ]
  },
  {
   "cell_type": "code",
   "execution_count": 38,
   "metadata": {},
   "outputs": [
    {
     "ename": "KeyError",
     "evalue": "'w_name'",
     "output_type": "error",
     "traceback": [
      "\u001b[0;31m---------------------------------------------------------------------------\u001b[0m",
      "\u001b[0;31mKeyError\u001b[0m                                  Traceback (most recent call last)",
      "\u001b[0;32m<ipython-input-38-267e4919b989>\u001b[0m in \u001b[0;36m<module>\u001b[0;34m()\u001b[0m\n\u001b[0;32m----> 1\u001b[0;31m \u001b[0mgenerate_52_stats\u001b[0m\u001b[0;34m(\u001b[0m\u001b[0mtest_df\u001b[0m\u001b[0;34m,\u001b[0m \u001b[0;36m0\u001b[0m\u001b[0;34m)\u001b[0m\u001b[0;34m\u001b[0m\u001b[0m\n\u001b[0m",
      "\u001b[0;32m/Users/Work/tennis_probs_live/data_functions.py\u001b[0m in \u001b[0;36mgenerate_52_stats\u001b[0;34m(df, start_ind)\u001b[0m\n\u001b[1;32m    334\u001b[0m         \u001b[0mavg_52_stats\u001b[0m\u001b[0;34m[\u001b[0m\u001b[0mi\u001b[0m\u001b[0;34m]\u001b[0m \u001b[0;34m=\u001b[0m \u001b[0mnp\u001b[0m\u001b[0;34m.\u001b[0m\u001b[0msum\u001b[0m\u001b[0;34m(\u001b[0m\u001b[0mavg_stats\u001b[0m\u001b[0;34m.\u001b[0m\u001b[0mlast_year\u001b[0m\u001b[0;34m,\u001b[0m\u001b[0maxis\u001b[0m\u001b[0;34m=\u001b[0m\u001b[0;36m0\u001b[0m\u001b[0;34m)\u001b[0m\u001b[0;34m\u001b[0m\u001b[0m\n\u001b[1;32m    335\u001b[0m         \u001b[0;32mfor\u001b[0m \u001b[0mk\u001b[0m\u001b[0;34m,\u001b[0m\u001b[0mlabel\u001b[0m \u001b[0;32min\u001b[0m \u001b[0menumerate\u001b[0m\u001b[0;34m(\u001b[0m\u001b[0mw_l\u001b[0m\u001b[0;34m)\u001b[0m\u001b[0;34m:\u001b[0m\u001b[0;34m\u001b[0m\u001b[0m\n\u001b[0;32m--> 336\u001b[0;31m             \u001b[0;32mif\u001b[0m \u001b[0mrow\u001b[0m\u001b[0;34m[\u001b[0m\u001b[0mlabel\u001b[0m\u001b[0;34m+\u001b[0m\u001b[0;34m'_name'\u001b[0m\u001b[0;34m]\u001b[0m \u001b[0;32mnot\u001b[0m \u001b[0;32min\u001b[0m \u001b[0mplayers_stats\u001b[0m\u001b[0;34m:\u001b[0m\u001b[0;34m\u001b[0m\u001b[0m\n\u001b[0m\u001b[1;32m    337\u001b[0m                 \u001b[0mplayers_stats\u001b[0m\u001b[0;34m[\u001b[0m\u001b[0mrow\u001b[0m\u001b[0;34m[\u001b[0m\u001b[0mlabel\u001b[0m\u001b[0;34m+\u001b[0m\u001b[0;34m'_name'\u001b[0m\u001b[0;34m]\u001b[0m\u001b[0;34m]\u001b[0m \u001b[0;34m=\u001b[0m \u001b[0mstats_52\u001b[0m\u001b[0;34m(\u001b[0m\u001b[0mdate\u001b[0m\u001b[0;34m)\u001b[0m\u001b[0;34m\u001b[0m\u001b[0m\n\u001b[1;32m    338\u001b[0m             \u001b[0;31m# store serving stats prior to match, update current month\u001b[0m\u001b[0;34m\u001b[0m\u001b[0;34m\u001b[0m\u001b[0m\n",
      "\u001b[0;32m/Users/Work/tennis_probs_live/venv/lib/python2.7/site-packages/pandas/core/series.pyc\u001b[0m in \u001b[0;36m__getitem__\u001b[0;34m(self, key)\u001b[0m\n\u001b[1;32m    866\u001b[0m         \u001b[0mkey\u001b[0m \u001b[0;34m=\u001b[0m \u001b[0mcom\u001b[0m\u001b[0;34m.\u001b[0m\u001b[0mapply_if_callable\u001b[0m\u001b[0;34m(\u001b[0m\u001b[0mkey\u001b[0m\u001b[0;34m,\u001b[0m \u001b[0mself\u001b[0m\u001b[0;34m)\u001b[0m\u001b[0;34m\u001b[0m\u001b[0m\n\u001b[1;32m    867\u001b[0m         \u001b[0;32mtry\u001b[0m\u001b[0;34m:\u001b[0m\u001b[0;34m\u001b[0m\u001b[0m\n\u001b[0;32m--> 868\u001b[0;31m             \u001b[0mresult\u001b[0m \u001b[0;34m=\u001b[0m \u001b[0mself\u001b[0m\u001b[0;34m.\u001b[0m\u001b[0mindex\u001b[0m\u001b[0;34m.\u001b[0m\u001b[0mget_value\u001b[0m\u001b[0;34m(\u001b[0m\u001b[0mself\u001b[0m\u001b[0;34m,\u001b[0m \u001b[0mkey\u001b[0m\u001b[0;34m)\u001b[0m\u001b[0;34m\u001b[0m\u001b[0m\n\u001b[0m\u001b[1;32m    869\u001b[0m \u001b[0;34m\u001b[0m\u001b[0m\n\u001b[1;32m    870\u001b[0m             \u001b[0;32mif\u001b[0m \u001b[0;32mnot\u001b[0m \u001b[0mis_scalar\u001b[0m\u001b[0;34m(\u001b[0m\u001b[0mresult\u001b[0m\u001b[0;34m)\u001b[0m\u001b[0;34m:\u001b[0m\u001b[0;34m\u001b[0m\u001b[0m\n",
      "\u001b[0;32m/Users/Work/tennis_probs_live/venv/lib/python2.7/site-packages/pandas/core/indexes/base.pyc\u001b[0m in \u001b[0;36mget_value\u001b[0;34m(self, series, key)\u001b[0m\n\u001b[1;32m   4386\u001b[0m                     \u001b[0;32mraise\u001b[0m \u001b[0mInvalidIndexError\u001b[0m\u001b[0;34m(\u001b[0m\u001b[0mkey\u001b[0m\u001b[0;34m)\u001b[0m\u001b[0;34m\u001b[0m\u001b[0m\n\u001b[1;32m   4387\u001b[0m                 \u001b[0;32melse\u001b[0m\u001b[0;34m:\u001b[0m\u001b[0;34m\u001b[0m\u001b[0m\n\u001b[0;32m-> 4388\u001b[0;31m                     \u001b[0;32mraise\u001b[0m \u001b[0me1\u001b[0m\u001b[0;34m\u001b[0m\u001b[0m\n\u001b[0m\u001b[1;32m   4389\u001b[0m             \u001b[0;32mexcept\u001b[0m \u001b[0mException\u001b[0m\u001b[0;34m:\u001b[0m  \u001b[0;31m# pragma: no cover\u001b[0m\u001b[0;34m\u001b[0m\u001b[0m\n\u001b[1;32m   4390\u001b[0m                 \u001b[0;32mraise\u001b[0m \u001b[0me1\u001b[0m\u001b[0;34m\u001b[0m\u001b[0m\n",
      "\u001b[0;31mKeyError\u001b[0m: 'w_name'"
     ]
    }
   ],
   "source": [
    "generate_52_stats(test_df, 0)"
   ]
  },
  {
   "cell_type": "code",
   "execution_count": 8,
   "metadata": {},
   "outputs": [],
   "source": [
    "# TODO: verify datasets"
   ]
  },
  {
   "cell_type": "code",
   "execution_count": null,
   "metadata": {},
   "outputs": [],
   "source": []
  },
  {
   "cell_type": "code",
   "execution_count": null,
   "metadata": {
    "collapsed": true
   },
   "outputs": [],
   "source": [
    "## NOTE: you made a mistake implementing EM estimates...double check this \n",
    "## looks like generate_EM() is not being run correctly\n",
    "## might actually be due to only calculating estimates for relevant years and using entire match \n",
    "## frame; this might affect the strength\n",
    "\n",
    "## TO DO: split helper functions into generating elo, then getting 52_stats\n",
    "## need to make sure that df has all relevant matches (within year range) prior to generating\n",
    "## EM stats, otherwise the value of 'n' will be thrown off"
   ]
  },
  {
   "cell_type": "code",
   "execution_count": 3,
   "metadata": {},
   "outputs": [],
   "source": [
    "import pandas as pd\n",
    "import numpy as np\n",
    "from data_functions import *\n",
    "from sklearn.metrics import log_loss, accuracy_score\n",
    "\n",
    "df = pd.read_csv('match_data_constructed/match_df_6_29_2018')\n",
    "f_path = '../../repositories/college/research/my_data/elo_atp_matches_all_10_29.csv'\n",
    "df_old = pd.read_csv(f_path)"
   ]
  },
  {
   "cell_type": "code",
   "execution_count": 4,
   "metadata": {},
   "outputs": [
    {
     "data": {
      "text/plain": [
       "0.3816851664984864"
      ]
     },
     "execution_count": 4,
     "metadata": {},
     "output_type": "execute_result"
    }
   ],
   "source": [
    "1513/3964."
   ]
  },
  {
   "cell_type": "code",
   "execution_count": 5,
   "metadata": {},
   "outputs": [
    {
     "data": {
      "text/plain": [
       "0.6203999999999998"
      ]
     },
     "execution_count": 5,
     "metadata": {},
     "output_type": "execute_result"
    }
   ],
   "source": [
    "f_t, f_av = .6153, .6468\n",
    "g_av = 1-f_av\n",
    "f_i, g_j = .6465, .3478\n",
    "\n",
    "f_t + (f_i-f_av) - (g_j-g_av)"
   ]
  },
  {
   "cell_type": "code",
   "execution_count": 6,
   "metadata": {},
   "outputs": [],
   "source": [
    "match_sub = df[(df['p0_name']=='Kevin Anderson') & (df['p1_name']=='Fernando Verdasco')]\n",
    "match_sub = match_sub[match_sub['match_year']==2013]\n",
    "# match_sub = match_sub[['p0_name','p1_name','p0_52_rwon','p0_52_rpt','p1_52_rwon','p1_52_rpt']]\n"
   ]
  },
  {
   "cell_type": "code",
   "execution_count": 10,
   "metadata": {},
   "outputs": [],
   "source": [
    "df = df[df['tny_name']!='ATP Challenger Tour Finals CH']\n",
    "df = df[df['tny_name']!='Davis Cup']\n",
    "df_old = df_old[df_old['tny_name']!='ATP Challenger Tour Finals CH']\n",
    "df_old = df_old[df_old['tny_name']!='Davis Cup']\n",
    "\n",
    "YEAR = 2014\n",
    "sub = df[df['match_year']==YEAR].reset_index()\n",
    "sub_old = df_old[df_old['match_year']==YEAR].reset_index()"
   ]
  },
  {
   "cell_type": "code",
   "execution_count": 14,
   "metadata": {},
   "outputs": [
    {
     "data": {
      "text/plain": [
       "(2488, 75)"
      ]
     },
     "execution_count": 14,
     "metadata": {},
     "output_type": "execute_result"
    }
   ],
   "source": [
    "sub.shape"
   ]
  },
  {
   "cell_type": "code",
   "execution_count": 12,
   "metadata": {},
   "outputs": [
    {
     "name": "stdout",
     "output_type": "stream",
     "text": [
      "Chennai 0 21\n",
      "Doha 0 31\n",
      "Brisbane 0 27\n",
      "2488 2409\n"
     ]
    }
   ],
   "source": [
    "a = 0\n",
    "b = 0\n",
    "for tny_name in set(sub['tny_name']):\n",
    "    a += sum(sub['tny_name']==tny_name)\n",
    "    b += sum(sub_old['tny_name']==tny_name)\n",
    "    if sum(sub_old['tny_name']==tny_name) != sum(sub['tny_name']==tny_name):\n",
    "        print tny_name, sum(sub_old['tny_name']==tny_name), sum(sub['tny_name']==tny_name)\n",
    "print a, b"
   ]
  },
  {
   "cell_type": "code",
   "execution_count": 16,
   "metadata": {
    "scrolled": true
   },
   "outputs": [
    {
     "name": "stdout",
     "output_type": "stream",
     "text": [
      "s_pct 0.636546532584\n"
     ]
    }
   ],
   "source": [
    "cols = ['s_pct']\n",
    "df = generate_EM_stats(sub, cols)"
   ]
  },
  {
   "cell_type": "code",
   "execution_count": null,
   "metadata": {
    "collapsed": true
   },
   "outputs": [],
   "source": []
  },
  {
   "cell_type": "code",
   "execution_count": 147,
   "metadata": {},
   "outputs": [
    {
     "name": "stdout",
     "output_type": "stream",
     "text": [
      "0.0014281577513\n"
     ]
    }
   ],
   "source": [
    "stat_history = np.concatenate([sub['p0_s_pct'],sub['p1_s_pct']],axis=0)\n",
    "tau2_hat = np.nanvar(stat_history)\n",
    "print tau2_hat"
   ]
  },
  {
   "cell_type": "code",
   "execution_count": 148,
   "metadata": {},
   "outputs": [
    {
     "name": "stdout",
     "output_type": "stream",
     "text": [
      "0.00143649763282\n"
     ]
    }
   ],
   "source": [
    "stat_history = np.concatenate([sub_old['p0_s_pct'],sub_old['p1_s_pct']],axis=0)\n",
    "tau2_hat = np.nanvar(stat_history)\n",
    "print tau2_hat"
   ]
  },
  {
   "cell_type": "code",
   "execution_count": 6,
   "metadata": {},
   "outputs": [
    {
     "data": {
      "text/html": [
       "<div>\n",
       "<table border=\"1\" class=\"dataframe\">\n",
       "  <thead>\n",
       "    <tr style=\"text-align: right;\">\n",
       "      <th></th>\n",
       "      <th>tny_name</th>\n",
       "      <th>p0_name</th>\n",
       "      <th>p1_name</th>\n",
       "      <th>p0_s_kls</th>\n",
       "      <th>p0_s_pct_EM</th>\n",
       "      <th>p1_s_kls</th>\n",
       "      <th>p1_s_pct_EM</th>\n",
       "    </tr>\n",
       "  </thead>\n",
       "  <tbody>\n",
       "    <tr>\n",
       "      <th>79</th>\n",
       "      <td>Auckland</td>\n",
       "      <td>Donald Young</td>\n",
       "      <td>Federico Delbonis</td>\n",
       "      <td>0.573700</td>\n",
       "      <td>0.618342</td>\n",
       "      <td>0.589324</td>\n",
       "      <td>0.641060</td>\n",
       "    </tr>\n",
       "    <tr>\n",
       "      <th>80</th>\n",
       "      <td>Auckland</td>\n",
       "      <td>Santiago Giraldo</td>\n",
       "      <td>Albert Montanes</td>\n",
       "      <td>0.645451</td>\n",
       "      <td>0.624250</td>\n",
       "      <td>0.660674</td>\n",
       "      <td>0.620087</td>\n",
       "    </tr>\n",
       "    <tr>\n",
       "      <th>81</th>\n",
       "      <td>Auckland</td>\n",
       "      <td>Guillermo Garcia</td>\n",
       "      <td>Robin Haase</td>\n",
       "      <td>0.638478</td>\n",
       "      <td>0.612437</td>\n",
       "      <td>0.634435</td>\n",
       "      <td>0.631945</td>\n",
       "    </tr>\n",
       "    <tr>\n",
       "      <th>82</th>\n",
       "      <td>Auckland</td>\n",
       "      <td>Marcos Baghdatis</td>\n",
       "      <td>Steve Johnson</td>\n",
       "      <td>0.733536</td>\n",
       "      <td>0.639615</td>\n",
       "      <td>0.692084</td>\n",
       "      <td>0.635690</td>\n",
       "    </tr>\n",
       "    <tr>\n",
       "      <th>83</th>\n",
       "      <td>Auckland</td>\n",
       "      <td>Igor Sijsling</td>\n",
       "      <td>Yen Hsun</td>\n",
       "      <td>0.655477</td>\n",
       "      <td>0.648859</td>\n",
       "      <td>0.667468</td>\n",
       "      <td>0.629183</td>\n",
       "    </tr>\n",
       "    <tr>\n",
       "      <th>84</th>\n",
       "      <td>Auckland</td>\n",
       "      <td>Bradley Klahn</td>\n",
       "      <td>Daniel Brands</td>\n",
       "      <td>0.746740</td>\n",
       "      <td>0.656862</td>\n",
       "      <td>0.712967</td>\n",
       "      <td>0.653501</td>\n",
       "    </tr>\n",
       "  </tbody>\n",
       "</table>\n",
       "</div>"
      ],
      "text/plain": [
       "    tny_name           p0_name            p1_name  p0_s_kls  p0_s_pct_EM  \\\n",
       "79  Auckland      Donald Young  Federico Delbonis  0.573700     0.618342   \n",
       "80  Auckland  Santiago Giraldo    Albert Montanes  0.645451     0.624250   \n",
       "81  Auckland  Guillermo Garcia        Robin Haase  0.638478     0.612437   \n",
       "82  Auckland  Marcos Baghdatis      Steve Johnson  0.733536     0.639615   \n",
       "83  Auckland     Igor Sijsling           Yen Hsun  0.655477     0.648859   \n",
       "84  Auckland     Bradley Klahn      Daniel Brands  0.746740     0.656862   \n",
       "\n",
       "    p1_s_kls  p1_s_pct_EM  \n",
       "79  0.589324     0.641060  \n",
       "80  0.660674     0.620087  \n",
       "81  0.634435     0.631945  \n",
       "82  0.692084     0.635690  \n",
       "83  0.667468     0.629183  \n",
       "84  0.712967     0.653501  "
      ]
     },
     "execution_count": 6,
     "metadata": {},
     "output_type": "execute_result"
    }
   ],
   "source": [
    "sub[['tny_name','p0_name','p1_name',\\\n",
    "     'p0_s_kls','p0_s_pct_EM','p1_s_kls','p1_s_pct_EM']].loc[79:84]"
   ]
  },
  {
   "cell_type": "code",
   "execution_count": 18,
   "metadata": {},
   "outputs": [
    {
     "data": {
      "text/html": [
       "<div>\n",
       "<table border=\"1\" class=\"dataframe\">\n",
       "  <thead>\n",
       "    <tr style=\"text-align: right;\">\n",
       "      <th></th>\n",
       "      <th>tny_name</th>\n",
       "      <th>p0_name</th>\n",
       "      <th>p1_name</th>\n",
       "      <th>p0_s_kls</th>\n",
       "      <th>p0_s_pct_JS</th>\n",
       "      <th>p1_s_kls</th>\n",
       "      <th>p1_s_pct_JS</th>\n",
       "    </tr>\n",
       "  </thead>\n",
       "  <tbody>\n",
       "    <tr>\n",
       "      <th>0</th>\n",
       "      <td>Auckland</td>\n",
       "      <td>Donald Young</td>\n",
       "      <td>Federico Delbonis</td>\n",
       "      <td>0.573700</td>\n",
       "      <td>0.574336</td>\n",
       "      <td>0.589324</td>\n",
       "      <td>0.639250</td>\n",
       "    </tr>\n",
       "    <tr>\n",
       "      <th>1</th>\n",
       "      <td>Auckland</td>\n",
       "      <td>Albert Montanes</td>\n",
       "      <td>Santiago Giraldo</td>\n",
       "      <td>0.660674</td>\n",
       "      <td>0.613221</td>\n",
       "      <td>0.645451</td>\n",
       "      <td>0.618632</td>\n",
       "    </tr>\n",
       "    <tr>\n",
       "      <th>2</th>\n",
       "      <td>Auckland</td>\n",
       "      <td>Guillermo Garcia</td>\n",
       "      <td>Robin Haase</td>\n",
       "      <td>0.638478</td>\n",
       "      <td>0.604832</td>\n",
       "      <td>0.634435</td>\n",
       "      <td>0.629601</td>\n",
       "    </tr>\n",
       "    <tr>\n",
       "      <th>3</th>\n",
       "      <td>Auckland</td>\n",
       "      <td>Steve Johnson</td>\n",
       "      <td>Marcos Baghdatis</td>\n",
       "      <td>0.692084</td>\n",
       "      <td>0.629776</td>\n",
       "      <td>0.733536</td>\n",
       "      <td>0.637896</td>\n",
       "    </tr>\n",
       "    <tr>\n",
       "      <th>4</th>\n",
       "      <td>Auckland</td>\n",
       "      <td>Yen Hsun</td>\n",
       "      <td>Igor Sijsling</td>\n",
       "      <td>0.667468</td>\n",
       "      <td>0.624290</td>\n",
       "      <td>0.655477</td>\n",
       "      <td>0.649739</td>\n",
       "    </tr>\n",
       "    <tr>\n",
       "      <th>5</th>\n",
       "      <td>Auckland</td>\n",
       "      <td>Bradley Klahn</td>\n",
       "      <td>Daniel Brands</td>\n",
       "      <td>0.746740</td>\n",
       "      <td>0.669786</td>\n",
       "      <td>0.712967</td>\n",
       "      <td>0.655438</td>\n",
       "    </tr>\n",
       "  </tbody>\n",
       "</table>\n",
       "</div>"
      ],
      "text/plain": [
       "   tny_name           p0_name            p1_name  p0_s_kls  p0_s_pct_JS  \\\n",
       "0  Auckland      Donald Young  Federico Delbonis  0.573700     0.574336   \n",
       "1  Auckland   Albert Montanes   Santiago Giraldo  0.660674     0.613221   \n",
       "2  Auckland  Guillermo Garcia        Robin Haase  0.638478     0.604832   \n",
       "3  Auckland     Steve Johnson   Marcos Baghdatis  0.692084     0.629776   \n",
       "4  Auckland          Yen Hsun      Igor Sijsling  0.667468     0.624290   \n",
       "5  Auckland     Bradley Klahn      Daniel Brands  0.746740     0.669786   \n",
       "\n",
       "   p1_s_kls  p1_s_pct_JS  \n",
       "0  0.589324     0.639250  \n",
       "1  0.645451     0.618632  \n",
       "2  0.634435     0.629601  \n",
       "3  0.733536     0.637896  \n",
       "4  0.655477     0.649739  \n",
       "5  0.712967     0.655438  "
      ]
     },
     "execution_count": 18,
     "metadata": {},
     "output_type": "execute_result"
    }
   ],
   "source": [
    "sub_old[['tny_name','p0_name','p1_name',\\\n",
    "         'p0_s_kls','p0_s_pct_JS','p1_s_kls','p1_s_pct_JS']].loc[:5]"
   ]
  },
  {
   "cell_type": "code",
   "execution_count": null,
   "metadata": {
    "collapsed": true
   },
   "outputs": [],
   "source": [
    "stat_history = np.concatenate([df['p0_s_kls'],df['p1_'+col]],axis=0)"
   ]
  },
  {
   "cell_type": "code",
   "execution_count": 111,
   "metadata": {},
   "outputs": [
    {
     "name": "stdout",
     "output_type": "stream",
     "text": [
      "match_prob_kls\n",
      "accuracy score:  0.648713826367\n",
      "log loss:  0.647957708155\n",
      "match_prob_kls_EM\n",
      "accuracy score:  0.646704180064\n",
      "log loss:  0.613318223449\n",
      "match_prob_adj_kls\n",
      "accuracy score:  0.674839228296\n",
      "log loss:  0.631435350174\n",
      "match_prob_adj_kls_EM\n",
      "accuracy score:  0.674839228296\n",
      "log loss:  0.621415954217\n",
      "elo_prob\n",
      "accuracy score:  0.690514469453\n",
      "log loss:  0.588863185483\n"
     ]
    }
   ],
   "source": [
    "prob_cols = [u'match_prob_kls', u'match_prob_kls_EM', u'match_prob_adj_kls', \\\n",
    "             u'match_prob_adj_kls_EM', u'elo_prob']\n",
    "for col in prob_cols:\n",
    "    print col\n",
    "    print 'accuracy score: ', accuracy_score(1 - sub['winner'], sub[col] >=.5)\n",
    "    print 'log loss: ',log_loss(1 - sub['winner'], sub[col])"
   ]
  },
  {
   "cell_type": "code",
   "execution_count": 110,
   "metadata": {},
   "outputs": [
    {
     "name": "stdout",
     "output_type": "stream",
     "text": [
      "match_prob_kls\n",
      "accuracy score:  0.64798671648\n",
      "log loss:  0.649029598611\n",
      "match_prob_kls_JS\n",
      "accuracy score:  0.654628476546\n",
      "log loss:  0.615573317508\n",
      "match_prob_adj_kls\n",
      "accuracy score:  0.678704856787\n",
      "log loss:  0.631634020959\n",
      "match_prob_adj_kls_JS\n",
      "accuracy score:  0.679119966791\n",
      "log loss:  0.616994785515\n",
      "elo_prob\n",
      "accuracy score:  0.690743046907\n",
      "log loss:  0.585792277895\n"
     ]
    }
   ],
   "source": [
    "prob_cols = [u'match_prob_kls', u'match_prob_kls_JS', u'match_prob_adj_kls', \\\n",
    "             u'match_prob_adj_kls_JS', u'elo_prob']\n",
    "for col in prob_cols:\n",
    "    print col\n",
    "    print 'accuracy score: ', accuracy_score(sub_old['winner'], sub_old[col] >=.5)\n",
    "    print 'log loss: ',log_loss(sub_old['winner'], sub_old[col])"
   ]
  },
  {
   "cell_type": "code",
   "execution_count": 57,
   "metadata": {},
   "outputs": [
    {
     "data": {
      "text/plain": [
       "match_year                 2013\n",
       "tny_name        Australian Open\n",
       "p0_name          Kevin Anderson\n",
       "p1_name       Fernando Verdasco\n",
       "p0_52_swon                 3191\n",
       "p0_52_svpt                 4695\n",
       "p1_52_swon                 2469\n",
       "p1_52_svpt                 3819\n",
       "Name: 7, dtype: object"
      ]
     },
     "execution_count": 57,
     "metadata": {},
     "output_type": "execute_result"
    }
   ],
   "source": [
    "sub[['match_year','tny_name','p0_name','p1_name','p0_52_swon','p0_52_svpt',\\\n",
    "     'p1_52_swon','p1_52_svpt']].loc[7]"
   ]
  },
  {
   "cell_type": "code",
   "execution_count": 58,
   "metadata": {},
   "outputs": [
    {
     "data": {
      "text/plain": [
       "match_year                 2013\n",
       "tny_name        Australian Open\n",
       "p0_name          Kevin Anderson\n",
       "p1_name       Fernando Verdasco\n",
       "p0_52_swon                 3191\n",
       "p0_52_svpt                 4695\n",
       "p1_52_swon                 2469\n",
       "p1_52_svpt                 3819\n",
       "Name: 7, dtype: object"
      ]
     },
     "execution_count": 58,
     "metadata": {},
     "output_type": "execute_result"
    }
   ],
   "source": [
    "sub_old[['match_year','tny_name','p0_name','p1_name','p0_52_swon','p0_52_svpt',\\\n",
    "     'p1_52_swon','p1_52_svpt']].loc[7]"
   ]
  },
  {
   "cell_type": "code",
   "execution_count": null,
   "metadata": {
    "collapsed": true
   },
   "outputs": [],
   "source": [
    "# YEAR = 2013\n",
    "# sub = df[(df['p0_name']=='Kevin Anderson') | (df['p1_name']=='Kevin Anderson')]\n",
    "# sub_old = df_old[(df_old['p0_name']=='Kevin Anderson') | (df_old['p1_name']=='Kevin Anderson')]\n",
    "# sub = sub[sub['match_year']==YEAR].reset_index()\n",
    "# sub_old = sub_old[sub_old['match_year']==YEAR].reset_index()"
   ]
  }
 ],
 "metadata": {
  "kernelspec": {
   "display_name": "Python 2",
   "language": "python",
   "name": "python2"
  },
  "language_info": {
   "codemirror_mode": {
    "name": "ipython",
    "version": 2
   },
   "file_extension": ".py",
   "mimetype": "text/x-python",
   "name": "python",
   "nbconvert_exporter": "python",
   "pygments_lexer": "ipython2",
   "version": "2.7.10"
  }
 },
 "nbformat": 4,
 "nbformat_minor": 2
}
